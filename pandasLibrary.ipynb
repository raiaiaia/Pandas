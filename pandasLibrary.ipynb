{
  "nbformat": 4,
  "nbformat_minor": 0,
  "metadata": {
    "colab": {
      "name": "pandasLibrary.ipynb",
      "provenance": [],
      "collapsed_sections": [
        "z8Ge2NQRPEeX",
        "Jxpo3VOuPJch",
        "URjUEWeUbchi",
        "g9LDGzUFjsAV"
      ],
      "authorship_tag": "ABX9TyPoo+ssZ3rgPGBAM7fZsZ9j",
      "include_colab_link": true
    },
    "kernelspec": {
      "name": "python3",
      "display_name": "Python 3"
    }
  },
  "cells": [
    {
      "cell_type": "markdown",
      "metadata": {
        "id": "view-in-github",
        "colab_type": "text"
      },
      "source": [
        "<a href=\"https://colab.research.google.com/github/raiaiaia/pandasLibrary/blob/master/pandasLibrary.ipynb\" target=\"_parent\"><img src=\"https://colab.research.google.com/assets/colab-badge.svg\" alt=\"Open In Colab\"/></a>"
      ]
    },
    {
      "cell_type": "markdown",
      "metadata": {
        "id": "FrFyz9M7O4pf",
        "colab_type": "text"
      },
      "source": [
        "# **Análise de Dados com Pandas**\n"
      ]
    },
    {
      "cell_type": "markdown",
      "metadata": {
        "id": "z8Ge2NQRPEeX",
        "colab_type": "text"
      },
      "source": [
        "#O que é Pandas? Para que serve?\n"
      ]
    },
    {
      "cell_type": "markdown",
      "metadata": {
        "id": "_-U2fiIKPKx-",
        "colab_type": "text"
      },
      "source": [
        "<img src=\"https://media.giphy.com/media/EPcvhM28ER9XW/giphy.gif\" >\n",
        "\n"
      ]
    },
    {
      "cell_type": "markdown",
      "metadata": {
        "id": "vF8xnrvLRcFr",
        "colab_type": "text"
      },
      "source": [
        "Pandas é uma biblioteca de alta performance da linguagem de programação Python. É utilizada para Análise de Dados e foi criada em 2008, pela necessidade de se ter uma ferramenta que realizasse análise quantitativa em dados financeiros. Com ela podemos lidar com grandes conjuntos de dados: fazendo operações; plotando gráficos, entre outros."
      ]
    },
    {
      "cell_type": "markdown",
      "metadata": {
        "id": "Jxpo3VOuPJch",
        "colab_type": "text"
      },
      "source": [
        "#Primeiros Passos\n",
        "\n",
        "Importando a biblioteca:\n"
      ]
    },
    {
      "cell_type": "code",
      "metadata": {
        "id": "FKeUIXs2Y8Xi",
        "colab_type": "code",
        "colab": {}
      },
      "source": [
        "import pandas as pd"
      ],
      "execution_count": 4,
      "outputs": []
    },
    {
      "cell_type": "markdown",
      "metadata": {
        "id": "URjUEWeUbchi",
        "colab_type": "text"
      },
      "source": [
        "#**Series e DataFrame**"
      ]
    },
    {
      "cell_type": "markdown",
      "metadata": {
        "id": "sqBOeTyGZOMn",
        "colab_type": "text"
      },
      "source": [
        "Antes de continuar, precisamos entender o que são essas Estruturas de Dados."
      ]
    },
    {
      "cell_type": "markdown",
      "metadata": {
        "id": "Z1WAU7nEc5vP",
        "colab_type": "text"
      },
      "source": [
        "**Series** são arrays de 1 dimensão, ou melhor dizendo, uma tabela com uma única coluna."
      ]
    },
    {
      "cell_type": "code",
      "metadata": {
        "id": "06dqdmj1cJ3P",
        "colab_type": "code",
        "colab": {
          "base_uri": "https://localhost:8080/",
          "height": 106
        },
        "outputId": "36845bbc-f99c-4351-c066-51128d557b15"
      },
      "source": [
        "#criando uma Series\n",
        "s = pd.Series([1, 2, 3, 4], index=['a', 'b', 'c', 'd'])\n",
        "\n",
        "s.head()"
      ],
      "execution_count": 7,
      "outputs": [
        {
          "output_type": "execute_result",
          "data": {
            "text/plain": [
              "a    1\n",
              "b    2\n",
              "c    3\n",
              "d    4\n",
              "dtype: int64"
            ]
          },
          "metadata": {
            "tags": []
          },
          "execution_count": 7
        }
      ]
    },
    {
      "cell_type": "markdown",
      "metadata": {
        "id": "abnPJJ-jcB-3",
        "colab_type": "text"
      },
      "source": [
        "**DataFrames** ou **Datasets** são um conjunto de dados de 2 dimensões, podendo ser considerado um conjunto de Series, ou melhor dizendo, uma tabela com várias colunas."
      ]
    },
    {
      "cell_type": "code",
      "metadata": {
        "id": "_gQiz18geBFb",
        "colab_type": "code",
        "colab": {
          "base_uri": "https://localhost:8080/",
          "height": 139
        },
        "outputId": "d35b2ebe-63b9-4900-81e5-15677d708c2d"
      },
      "source": [
        "#criando um dicionário com vários valores \n",
        "data = {\n",
        "'País': ['Bélgica', 'Índia', 'Brasil'],\n",
        "'Capital': ['Bruxelas', 'Nova Delhi', 'Brasília'],\n",
        "'População': [123465, 456789, 987654]\n",
        "}\n",
        "\n",
        "#criando o DataFrame\n",
        "df = pd.DataFrame(data, columns=['País','Capital','População'])\n",
        "\n",
        "df"
      ],
      "execution_count": 9,
      "outputs": [
        {
          "output_type": "execute_result",
          "data": {
            "text/html": [
              "<div>\n",
              "<style scoped>\n",
              "    .dataframe tbody tr th:only-of-type {\n",
              "        vertical-align: middle;\n",
              "    }\n",
              "\n",
              "    .dataframe tbody tr th {\n",
              "        vertical-align: top;\n",
              "    }\n",
              "\n",
              "    .dataframe thead th {\n",
              "        text-align: right;\n",
              "    }\n",
              "</style>\n",
              "<table border=\"1\" class=\"dataframe\">\n",
              "  <thead>\n",
              "    <tr style=\"text-align: right;\">\n",
              "      <th></th>\n",
              "      <th>País</th>\n",
              "      <th>Capital</th>\n",
              "      <th>População</th>\n",
              "    </tr>\n",
              "  </thead>\n",
              "  <tbody>\n",
              "    <tr>\n",
              "      <th>0</th>\n",
              "      <td>Bélgica</td>\n",
              "      <td>Bruxelas</td>\n",
              "      <td>123465</td>\n",
              "    </tr>\n",
              "    <tr>\n",
              "      <th>1</th>\n",
              "      <td>Índia</td>\n",
              "      <td>Nova Delhi</td>\n",
              "      <td>456789</td>\n",
              "    </tr>\n",
              "    <tr>\n",
              "      <th>2</th>\n",
              "      <td>Brasil</td>\n",
              "      <td>Brasília</td>\n",
              "      <td>987654</td>\n",
              "    </tr>\n",
              "  </tbody>\n",
              "</table>\n",
              "</div>"
            ],
            "text/plain": [
              "      País     Capital  População\n",
              "0  Bélgica    Bruxelas     123465\n",
              "1    Índia  Nova Delhi     456789\n",
              "2   Brasil    Brasília     987654"
            ]
          },
          "metadata": {
            "tags": []
          },
          "execution_count": 9
        }
      ]
    },
    {
      "cell_type": "markdown",
      "metadata": {
        "id": "l8zUWRwl0FxN",
        "colab_type": "text"
      },
      "source": [
        "**Agora que já sabemos a diferença, vamos importar um conjunto de dados!!**\n",
        "\n",
        "Os arquivos a serem manipulados ou são do tipo *csv* ou *xlsx*."
      ]
    },
    {
      "cell_type": "markdown",
      "metadata": {
        "id": "g9LDGzUFjsAV",
        "colab_type": "text"
      },
      "source": [
        "#Importando um arquivo CSV\n",
        "\n"
      ]
    },
    {
      "cell_type": "markdown",
      "metadata": {
        "id": "CQ4-l2i5Zo1e",
        "colab_type": "text"
      },
      "source": [
        "\n",
        "\n",
        "Para ficar mais fácil, recomendo colocar os arquivos no Google Drive. Para poder utilizá-los aqui no Colab, precisamos importá-lo também."
      ]
    },
    {
      "cell_type": "code",
      "metadata": {
        "id": "Ytd9foh-eq2X",
        "colab_type": "code",
        "colab": {
          "base_uri": "https://localhost:8080/",
          "height": 126
        },
        "outputId": "bba84e28-cf65-4b15-ffdc-96fc38661d20"
      },
      "source": [
        "#importanto o google drive no colab\n",
        "from google.colab import drive\n",
        "drive.mount('/content/drive', force_remount=True)\n"
      ],
      "execution_count": 10,
      "outputs": [
        {
          "output_type": "stream",
          "text": [
            "Go to this URL in a browser: https://accounts.google.com/o/oauth2/auth?client_id=947318989803-6bn6qk8qdgf4n4g3pfee6491hc0brc4i.apps.googleusercontent.com&redirect_uri=urn%3aietf%3awg%3aoauth%3a2.0%3aoob&response_type=code&scope=email%20https%3a%2f%2fwww.googleapis.com%2fauth%2fdocs.test%20https%3a%2f%2fwww.googleapis.com%2fauth%2fdrive%20https%3a%2f%2fwww.googleapis.com%2fauth%2fdrive.photos.readonly%20https%3a%2f%2fwww.googleapis.com%2fauth%2fpeopleapi.readonly\n",
            "\n",
            "Enter your authorization code:\n",
            "··········\n",
            "Mounted at /content/drive\n"
          ],
          "name": "stdout"
        }
      ]
    },
    {
      "cell_type": "markdown",
      "metadata": {
        "id": "7419gfhqs0cK",
        "colab_type": "text"
      },
      "source": [
        "O conjunto de dados que irei importar faz parte do projeto realizado no IFPB Campus Picuí e você pode encontrá-lo em: https://docs.google.com/spreadsheets/d/1Q0ZsaXhW3Ssl2camRmY9RCsjTqNWF6XJAB0w02k1aEM/edit?usp=sharing\n",
        "\n",
        "*Lembrando que ao baixar o arquivo pelo Google Spreadsheets ele não estará no formato csv.*"
      ]
    },
    {
      "cell_type": "code",
      "metadata": {
        "id": "sAtSQEBPnGg-",
        "colab_type": "code",
        "colab": {
          "base_uri": "https://localhost:8080/",
          "height": 200
        },
        "outputId": "4656f40f-fb8d-40de-fc07-ec048e46fff3"
      },
      "source": [
        "#abrindo o arquivo com o diretório de onde ele se encontra no drive\n",
        "df = pd.read_csv ('/content/drive/My Drive/IFPB/dataGraf2.csv')\n",
        "\n",
        "#lendo os primeiros 5 valores do DataFrame\n",
        "df.head()"
      ],
      "execution_count": 12,
      "outputs": [
        {
          "output_type": "execute_result",
          "data": {
            "text/html": [
              "<div>\n",
              "<style scoped>\n",
              "    .dataframe tbody tr th:only-of-type {\n",
              "        vertical-align: middle;\n",
              "    }\n",
              "\n",
              "    .dataframe tbody tr th {\n",
              "        vertical-align: top;\n",
              "    }\n",
              "\n",
              "    .dataframe thead th {\n",
              "        text-align: right;\n",
              "    }\n",
              "</style>\n",
              "<table border=\"1\" class=\"dataframe\">\n",
              "  <thead>\n",
              "    <tr style=\"text-align: right;\">\n",
              "      <th></th>\n",
              "      <th>data</th>\n",
              "      <th>positivo</th>\n",
              "      <th>negativo</th>\n",
              "      <th>neutro</th>\n",
              "    </tr>\n",
              "  </thead>\n",
              "  <tbody>\n",
              "    <tr>\n",
              "      <th>0</th>\n",
              "      <td>08/05</td>\n",
              "      <td>104</td>\n",
              "      <td>43</td>\n",
              "      <td>577</td>\n",
              "    </tr>\n",
              "    <tr>\n",
              "      <th>1</th>\n",
              "      <td>09/05</td>\n",
              "      <td>72</td>\n",
              "      <td>44</td>\n",
              "      <td>416</td>\n",
              "    </tr>\n",
              "    <tr>\n",
              "      <th>2</th>\n",
              "      <td>10/05</td>\n",
              "      <td>32</td>\n",
              "      <td>25</td>\n",
              "      <td>305</td>\n",
              "    </tr>\n",
              "    <tr>\n",
              "      <th>3</th>\n",
              "      <td>11/05</td>\n",
              "      <td>25</td>\n",
              "      <td>15</td>\n",
              "      <td>208</td>\n",
              "    </tr>\n",
              "    <tr>\n",
              "      <th>4</th>\n",
              "      <td>12/05</td>\n",
              "      <td>11</td>\n",
              "      <td>5</td>\n",
              "      <td>86</td>\n",
              "    </tr>\n",
              "  </tbody>\n",
              "</table>\n",
              "</div>"
            ],
            "text/plain": [
              "    data  positivo  negativo  neutro\n",
              "0  08/05       104        43     577\n",
              "1  09/05        72        44     416\n",
              "2  10/05        32        25     305\n",
              "3  11/05        25        15     208\n",
              "4  12/05        11         5      86"
            ]
          },
          "metadata": {
            "tags": []
          },
          "execution_count": 12
        }
      ]
    },
    {
      "cell_type": "code",
      "metadata": {
        "id": "O3URND_XnmmC",
        "colab_type": "code",
        "colab": {
          "base_uri": "https://localhost:8080/",
          "height": 1000
        },
        "outputId": "64cc5584-80a6-480c-e03c-3185137c56b5"
      },
      "source": [
        "#lendo mais de 5 valores do DataFrame\n",
        "\n",
        "df"
      ],
      "execution_count": 13,
      "outputs": [
        {
          "output_type": "execute_result",
          "data": {
            "text/html": [
              "<div>\n",
              "<style scoped>\n",
              "    .dataframe tbody tr th:only-of-type {\n",
              "        vertical-align: middle;\n",
              "    }\n",
              "\n",
              "    .dataframe tbody tr th {\n",
              "        vertical-align: top;\n",
              "    }\n",
              "\n",
              "    .dataframe thead th {\n",
              "        text-align: right;\n",
              "    }\n",
              "</style>\n",
              "<table border=\"1\" class=\"dataframe\">\n",
              "  <thead>\n",
              "    <tr style=\"text-align: right;\">\n",
              "      <th></th>\n",
              "      <th>data</th>\n",
              "      <th>positivo</th>\n",
              "      <th>negativo</th>\n",
              "      <th>neutro</th>\n",
              "    </tr>\n",
              "  </thead>\n",
              "  <tbody>\n",
              "    <tr>\n",
              "      <th>0</th>\n",
              "      <td>08/05</td>\n",
              "      <td>104</td>\n",
              "      <td>43</td>\n",
              "      <td>577</td>\n",
              "    </tr>\n",
              "    <tr>\n",
              "      <th>1</th>\n",
              "      <td>09/05</td>\n",
              "      <td>72</td>\n",
              "      <td>44</td>\n",
              "      <td>416</td>\n",
              "    </tr>\n",
              "    <tr>\n",
              "      <th>2</th>\n",
              "      <td>10/05</td>\n",
              "      <td>32</td>\n",
              "      <td>25</td>\n",
              "      <td>305</td>\n",
              "    </tr>\n",
              "    <tr>\n",
              "      <th>3</th>\n",
              "      <td>11/05</td>\n",
              "      <td>25</td>\n",
              "      <td>15</td>\n",
              "      <td>208</td>\n",
              "    </tr>\n",
              "    <tr>\n",
              "      <th>4</th>\n",
              "      <td>12/05</td>\n",
              "      <td>11</td>\n",
              "      <td>5</td>\n",
              "      <td>86</td>\n",
              "    </tr>\n",
              "    <tr>\n",
              "      <th>5</th>\n",
              "      <td>13/05</td>\n",
              "      <td>25</td>\n",
              "      <td>23</td>\n",
              "      <td>202</td>\n",
              "    </tr>\n",
              "    <tr>\n",
              "      <th>6</th>\n",
              "      <td>14/05</td>\n",
              "      <td>400</td>\n",
              "      <td>505</td>\n",
              "      <td>4770</td>\n",
              "    </tr>\n",
              "    <tr>\n",
              "      <th>7</th>\n",
              "      <td>15/05</td>\n",
              "      <td>752</td>\n",
              "      <td>888</td>\n",
              "      <td>8702</td>\n",
              "    </tr>\n",
              "    <tr>\n",
              "      <th>8</th>\n",
              "      <td>16/05</td>\n",
              "      <td>697</td>\n",
              "      <td>814</td>\n",
              "      <td>7618</td>\n",
              "    </tr>\n",
              "    <tr>\n",
              "      <th>9</th>\n",
              "      <td>17/05</td>\n",
              "      <td>70</td>\n",
              "      <td>65</td>\n",
              "      <td>580</td>\n",
              "    </tr>\n",
              "    <tr>\n",
              "      <th>10</th>\n",
              "      <td>18/05</td>\n",
              "      <td>19</td>\n",
              "      <td>23</td>\n",
              "      <td>192</td>\n",
              "    </tr>\n",
              "    <tr>\n",
              "      <th>11</th>\n",
              "      <td>19/05</td>\n",
              "      <td>29</td>\n",
              "      <td>23</td>\n",
              "      <td>294</td>\n",
              "    </tr>\n",
              "    <tr>\n",
              "      <th>12</th>\n",
              "      <td>20/05</td>\n",
              "      <td>22</td>\n",
              "      <td>18</td>\n",
              "      <td>221</td>\n",
              "    </tr>\n",
              "    <tr>\n",
              "      <th>13</th>\n",
              "      <td>21/05</td>\n",
              "      <td>26</td>\n",
              "      <td>21</td>\n",
              "      <td>199</td>\n",
              "    </tr>\n",
              "    <tr>\n",
              "      <th>14</th>\n",
              "      <td>22/04</td>\n",
              "      <td>21</td>\n",
              "      <td>15</td>\n",
              "      <td>219</td>\n",
              "    </tr>\n",
              "    <tr>\n",
              "      <th>15</th>\n",
              "      <td>23/05</td>\n",
              "      <td>19</td>\n",
              "      <td>8</td>\n",
              "      <td>154</td>\n",
              "    </tr>\n",
              "    <tr>\n",
              "      <th>16</th>\n",
              "      <td>24/05</td>\n",
              "      <td>19</td>\n",
              "      <td>13</td>\n",
              "      <td>134</td>\n",
              "    </tr>\n",
              "    <tr>\n",
              "      <th>17</th>\n",
              "      <td>25/05</td>\n",
              "      <td>19</td>\n",
              "      <td>10</td>\n",
              "      <td>133</td>\n",
              "    </tr>\n",
              "    <tr>\n",
              "      <th>18</th>\n",
              "      <td>26/05</td>\n",
              "      <td>1028</td>\n",
              "      <td>573</td>\n",
              "      <td>6715</td>\n",
              "    </tr>\n",
              "    <tr>\n",
              "      <th>19</th>\n",
              "      <td>27/05</td>\n",
              "      <td>976</td>\n",
              "      <td>527</td>\n",
              "      <td>6150</td>\n",
              "    </tr>\n",
              "    <tr>\n",
              "      <th>20</th>\n",
              "      <td>28/05</td>\n",
              "      <td>167</td>\n",
              "      <td>86</td>\n",
              "      <td>1058</td>\n",
              "    </tr>\n",
              "    <tr>\n",
              "      <th>21</th>\n",
              "      <td>29/05</td>\n",
              "      <td>595</td>\n",
              "      <td>728</td>\n",
              "      <td>7095</td>\n",
              "    </tr>\n",
              "    <tr>\n",
              "      <th>22</th>\n",
              "      <td>30/05</td>\n",
              "      <td>729</td>\n",
              "      <td>827</td>\n",
              "      <td>8296</td>\n",
              "    </tr>\n",
              "    <tr>\n",
              "      <th>23</th>\n",
              "      <td>31/05</td>\n",
              "      <td>221</td>\n",
              "      <td>254</td>\n",
              "      <td>2242</td>\n",
              "    </tr>\n",
              "    <tr>\n",
              "      <th>24</th>\n",
              "      <td>01/06</td>\n",
              "      <td>15</td>\n",
              "      <td>13</td>\n",
              "      <td>191</td>\n",
              "    </tr>\n",
              "    <tr>\n",
              "      <th>25</th>\n",
              "      <td>02/06</td>\n",
              "      <td>5</td>\n",
              "      <td>7</td>\n",
              "      <td>90</td>\n",
              "    </tr>\n",
              "    <tr>\n",
              "      <th>26</th>\n",
              "      <td>03/06</td>\n",
              "      <td>6</td>\n",
              "      <td>3</td>\n",
              "      <td>122</td>\n",
              "    </tr>\n",
              "    <tr>\n",
              "      <th>27</th>\n",
              "      <td>04/06</td>\n",
              "      <td>13</td>\n",
              "      <td>14</td>\n",
              "      <td>123</td>\n",
              "    </tr>\n",
              "    <tr>\n",
              "      <th>28</th>\n",
              "      <td>05/06</td>\n",
              "      <td>21</td>\n",
              "      <td>8</td>\n",
              "      <td>91</td>\n",
              "    </tr>\n",
              "    <tr>\n",
              "      <th>29</th>\n",
              "      <td>06/06</td>\n",
              "      <td>20</td>\n",
              "      <td>19</td>\n",
              "      <td>106</td>\n",
              "    </tr>\n",
              "    <tr>\n",
              "      <th>30</th>\n",
              "      <td>07/06</td>\n",
              "      <td>7</td>\n",
              "      <td>10</td>\n",
              "      <td>78</td>\n",
              "    </tr>\n",
              "    <tr>\n",
              "      <th>31</th>\n",
              "      <td>08/06</td>\n",
              "      <td>10</td>\n",
              "      <td>6</td>\n",
              "      <td>62</td>\n",
              "    </tr>\n",
              "    <tr>\n",
              "      <th>32</th>\n",
              "      <td>09/06</td>\n",
              "      <td>2</td>\n",
              "      <td>4</td>\n",
              "      <td>32</td>\n",
              "    </tr>\n",
              "    <tr>\n",
              "      <th>33</th>\n",
              "      <td>10/06</td>\n",
              "      <td>4</td>\n",
              "      <td>4</td>\n",
              "      <td>52</td>\n",
              "    </tr>\n",
              "    <tr>\n",
              "      <th>34</th>\n",
              "      <td>11/06</td>\n",
              "      <td>13</td>\n",
              "      <td>9</td>\n",
              "      <td>89</td>\n",
              "    </tr>\n",
              "    <tr>\n",
              "      <th>35</th>\n",
              "      <td>12/06</td>\n",
              "      <td>5</td>\n",
              "      <td>2</td>\n",
              "      <td>52</td>\n",
              "    </tr>\n",
              "    <tr>\n",
              "      <th>36</th>\n",
              "      <td>13/06</td>\n",
              "      <td>7</td>\n",
              "      <td>4</td>\n",
              "      <td>62</td>\n",
              "    </tr>\n",
              "    <tr>\n",
              "      <th>37</th>\n",
              "      <td>14/06</td>\n",
              "      <td>18</td>\n",
              "      <td>5</td>\n",
              "      <td>148</td>\n",
              "    </tr>\n",
              "    <tr>\n",
              "      <th>38</th>\n",
              "      <td>15/06</td>\n",
              "      <td>7</td>\n",
              "      <td>4</td>\n",
              "      <td>44</td>\n",
              "    </tr>\n",
              "    <tr>\n",
              "      <th>39</th>\n",
              "      <td>16/06</td>\n",
              "      <td>4</td>\n",
              "      <td>3</td>\n",
              "      <td>11</td>\n",
              "    </tr>\n",
              "    <tr>\n",
              "      <th>40</th>\n",
              "      <td>17/06</td>\n",
              "      <td>3</td>\n",
              "      <td>2</td>\n",
              "      <td>23</td>\n",
              "    </tr>\n",
              "    <tr>\n",
              "      <th>41</th>\n",
              "      <td>18/06</td>\n",
              "      <td>1</td>\n",
              "      <td>2</td>\n",
              "      <td>25</td>\n",
              "    </tr>\n",
              "    <tr>\n",
              "      <th>42</th>\n",
              "      <td>19/06</td>\n",
              "      <td>2</td>\n",
              "      <td>4</td>\n",
              "      <td>25</td>\n",
              "    </tr>\n",
              "    <tr>\n",
              "      <th>43</th>\n",
              "      <td>20/06</td>\n",
              "      <td>3</td>\n",
              "      <td>2</td>\n",
              "      <td>19</td>\n",
              "    </tr>\n",
              "    <tr>\n",
              "      <th>44</th>\n",
              "      <td>21/06</td>\n",
              "      <td>3</td>\n",
              "      <td>1</td>\n",
              "      <td>10</td>\n",
              "    </tr>\n",
              "    <tr>\n",
              "      <th>45</th>\n",
              "      <td>22/06</td>\n",
              "      <td>0</td>\n",
              "      <td>2</td>\n",
              "      <td>9</td>\n",
              "    </tr>\n",
              "    <tr>\n",
              "      <th>46</th>\n",
              "      <td>23/06</td>\n",
              "      <td>0</td>\n",
              "      <td>0</td>\n",
              "      <td>19</td>\n",
              "    </tr>\n",
              "    <tr>\n",
              "      <th>47</th>\n",
              "      <td>24/06</td>\n",
              "      <td>3</td>\n",
              "      <td>2</td>\n",
              "      <td>29</td>\n",
              "    </tr>\n",
              "    <tr>\n",
              "      <th>48</th>\n",
              "      <td>25/06</td>\n",
              "      <td>16</td>\n",
              "      <td>6</td>\n",
              "      <td>83</td>\n",
              "    </tr>\n",
              "    <tr>\n",
              "      <th>49</th>\n",
              "      <td>26/06</td>\n",
              "      <td>8</td>\n",
              "      <td>4</td>\n",
              "      <td>65</td>\n",
              "    </tr>\n",
              "    <tr>\n",
              "      <th>50</th>\n",
              "      <td>27/06</td>\n",
              "      <td>16</td>\n",
              "      <td>9</td>\n",
              "      <td>127</td>\n",
              "    </tr>\n",
              "    <tr>\n",
              "      <th>51</th>\n",
              "      <td>28/06</td>\n",
              "      <td>18</td>\n",
              "      <td>6</td>\n",
              "      <td>59</td>\n",
              "    </tr>\n",
              "    <tr>\n",
              "      <th>52</th>\n",
              "      <td>29/06</td>\n",
              "      <td>57</td>\n",
              "      <td>15</td>\n",
              "      <td>321</td>\n",
              "    </tr>\n",
              "    <tr>\n",
              "      <th>53</th>\n",
              "      <td>30/06</td>\n",
              "      <td>127</td>\n",
              "      <td>73</td>\n",
              "      <td>809</td>\n",
              "    </tr>\n",
              "    <tr>\n",
              "      <th>54</th>\n",
              "      <td>01/07</td>\n",
              "      <td>1</td>\n",
              "      <td>1</td>\n",
              "      <td>6</td>\n",
              "    </tr>\n",
              "    <tr>\n",
              "      <th>55</th>\n",
              "      <td>02/07</td>\n",
              "      <td>2</td>\n",
              "      <td>0</td>\n",
              "      <td>13</td>\n",
              "    </tr>\n",
              "    <tr>\n",
              "      <th>56</th>\n",
              "      <td>03/07</td>\n",
              "      <td>0</td>\n",
              "      <td>4</td>\n",
              "      <td>11</td>\n",
              "    </tr>\n",
              "    <tr>\n",
              "      <th>57</th>\n",
              "      <td>04/07</td>\n",
              "      <td>2</td>\n",
              "      <td>1</td>\n",
              "      <td>6</td>\n",
              "    </tr>\n",
              "    <tr>\n",
              "      <th>58</th>\n",
              "      <td>05/07</td>\n",
              "      <td>1</td>\n",
              "      <td>0</td>\n",
              "      <td>6</td>\n",
              "    </tr>\n",
              "  </tbody>\n",
              "</table>\n",
              "</div>"
            ],
            "text/plain": [
              "     data  positivo  negativo  neutro\n",
              "0   08/05       104        43     577\n",
              "1   09/05        72        44     416\n",
              "2   10/05        32        25     305\n",
              "3   11/05        25        15     208\n",
              "4   12/05        11         5      86\n",
              "5   13/05        25        23     202\n",
              "6   14/05       400       505    4770\n",
              "7   15/05       752       888    8702\n",
              "8   16/05       697       814    7618\n",
              "9   17/05        70        65     580\n",
              "10  18/05        19        23     192\n",
              "11  19/05        29        23     294\n",
              "12  20/05        22        18     221\n",
              "13  21/05        26        21     199\n",
              "14  22/04        21        15     219\n",
              "15  23/05        19         8     154\n",
              "16  24/05        19        13     134\n",
              "17  25/05        19        10     133\n",
              "18  26/05      1028       573    6715\n",
              "19  27/05       976       527    6150\n",
              "20  28/05       167        86    1058\n",
              "21  29/05       595       728    7095\n",
              "22  30/05       729       827    8296\n",
              "23  31/05       221       254    2242\n",
              "24  01/06        15        13     191\n",
              "25  02/06         5         7      90\n",
              "26  03/06         6         3     122\n",
              "27  04/06        13        14     123\n",
              "28  05/06        21         8      91\n",
              "29  06/06        20        19     106\n",
              "30  07/06         7        10      78\n",
              "31  08/06        10         6      62\n",
              "32  09/06         2         4      32\n",
              "33  10/06         4         4      52\n",
              "34  11/06        13         9      89\n",
              "35  12/06         5         2      52\n",
              "36  13/06         7         4      62\n",
              "37  14/06        18         5     148\n",
              "38  15/06         7         4      44\n",
              "39  16/06         4         3      11\n",
              "40  17/06         3         2      23\n",
              "41  18/06         1         2      25\n",
              "42  19/06         2         4      25\n",
              "43  20/06         3         2      19\n",
              "44  21/06         3         1      10\n",
              "45  22/06         0         2       9\n",
              "46  23/06         0         0      19\n",
              "47  24/06         3         2      29\n",
              "48  25/06        16         6      83\n",
              "49  26/06         8         4      65\n",
              "50  27/06        16         9     127\n",
              "51  28/06        18         6      59\n",
              "52  29/06        57        15     321\n",
              "53  30/06       127        73     809\n",
              "54  01/07         1         1       6\n",
              "55  02/07         2         0      13\n",
              "56  03/07         0         4      11\n",
              "57  04/07         2         1       6\n",
              "58  05/07         1         0       6"
            ]
          },
          "metadata": {
            "tags": []
          },
          "execution_count": 13
        }
      ]
    },
    {
      "cell_type": "markdown",
      "metadata": {
        "id": "yekg7ascuO2t",
        "colab_type": "text"
      },
      "source": [
        "Além de ler os arquivos em csv, haverão casos em que você precisará criar novos:"
      ]
    },
    {
      "cell_type": "code",
      "metadata": {
        "id": "Im1Pv052nxOc",
        "colab_type": "code",
        "colab": {}
      },
      "source": [
        "#criando arquivo csv\n",
        "pd.to_csv('nome_do_arquivo_para_salvar.csv')"
      ],
      "execution_count": 19,
      "outputs": []
    },
    {
      "cell_type": "markdown",
      "metadata": {
        "id": "CLkanOzb0Mx4",
        "colab_type": "text"
      },
      "source": [
        "#Importando um arquivo xlsx"
      ]
    },
    {
      "cell_type": "markdown",
      "metadata": {
        "id": "lbSGgeCg0hGu",
        "colab_type": "text"
      },
      "source": [
        "*Importando o DataFrame*:\n",
        "\n",
        "\n",
        "xlsx = pd.ExcelFile('seu_arquivo_excel.xlsx')\n",
        "\n",
        "\n",
        "\n",
        "*Criando o DataFrame*:\n",
        "\n",
        "\n",
        "df = pd.read_excel(xlsx, 'Planilha 1')"
      ]
    },
    {
      "cell_type": "markdown",
      "metadata": {
        "id": "FiCnAockx0pE",
        "colab_type": "text"
      },
      "source": [
        "#Comandos Básicos do Pandas"
      ]
    },
    {
      "cell_type": "markdown",
      "metadata": {
        "id": "mGdJgG6xunbb",
        "colab_type": "text"
      },
      "source": [
        "Para obter informações sobre o conjunto de dados\n"
      ]
    },
    {
      "cell_type": "code",
      "metadata": {
        "id": "SGzrNOb8u8eg",
        "colab_type": "code",
        "colab": {
          "base_uri": "https://localhost:8080/",
          "height": 212
        },
        "outputId": "7e458571-d1c7-4ab1-e1e7-a561fc3a82f5"
      },
      "source": [
        "#mostra algumas informações básicas sobre o df\n",
        "df.info()"
      ],
      "execution_count": 16,
      "outputs": [
        {
          "output_type": "stream",
          "text": [
            "<class 'pandas.core.frame.DataFrame'>\n",
            "RangeIndex: 59 entries, 0 to 58\n",
            "Data columns (total 4 columns):\n",
            " #   Column    Non-Null Count  Dtype \n",
            "---  ------    --------------  ----- \n",
            " 0   data      59 non-null     object\n",
            " 1   positivo  59 non-null     int64 \n",
            " 2   negativo  59 non-null     int64 \n",
            " 3   neutro    59 non-null     int64 \n",
            "dtypes: int64(3), object(1)\n",
            "memory usage: 2.0+ KB\n"
          ],
          "name": "stdout"
        }
      ]
    },
    {
      "cell_type": "code",
      "metadata": {
        "id": "1YLDuE9lvGwE",
        "colab_type": "code",
        "colab": {
          "base_uri": "https://localhost:8080/",
          "height": 35
        },
        "outputId": "a7c753b5-98dd-4636-ddd5-59dabea0baf4"
      },
      "source": [
        "#mostra as colunas do df\n",
        "df.columns"
      ],
      "execution_count": 18,
      "outputs": [
        {
          "output_type": "execute_result",
          "data": {
            "text/plain": [
              "Index(['data', 'positivo', 'negativo', 'neutro'], dtype='object')"
            ]
          },
          "metadata": {
            "tags": []
          },
          "execution_count": 18
        }
      ]
    },
    {
      "cell_type": "markdown",
      "metadata": {
        "id": "ZaSIopM7wOdl",
        "colab_type": "text"
      },
      "source": [
        "Para adicionar uma nova coluna ao DataFrame"
      ]
    },
    {
      "cell_type": "code",
      "metadata": {
        "id": "QXL1ig5PvvvZ",
        "colab_type": "code",
        "colab": {
          "base_uri": "https://localhost:8080/",
          "height": 200
        },
        "outputId": "fdd94d28-12df-4998-f192-ef6f88da1531"
      },
      "source": [
        "df['nova_coluna'] = 'NaN'\n",
        "df.head()"
      ],
      "execution_count": 36,
      "outputs": [
        {
          "output_type": "execute_result",
          "data": {
            "text/html": [
              "<div>\n",
              "<style scoped>\n",
              "    .dataframe tbody tr th:only-of-type {\n",
              "        vertical-align: middle;\n",
              "    }\n",
              "\n",
              "    .dataframe tbody tr th {\n",
              "        vertical-align: top;\n",
              "    }\n",
              "\n",
              "    .dataframe thead th {\n",
              "        text-align: right;\n",
              "    }\n",
              "</style>\n",
              "<table border=\"1\" class=\"dataframe\">\n",
              "  <thead>\n",
              "    <tr style=\"text-align: right;\">\n",
              "      <th></th>\n",
              "      <th>data</th>\n",
              "      <th>positivo</th>\n",
              "      <th>negativo</th>\n",
              "      <th>neutro</th>\n",
              "      <th>nova_coluna</th>\n",
              "    </tr>\n",
              "  </thead>\n",
              "  <tbody>\n",
              "    <tr>\n",
              "      <th>0</th>\n",
              "      <td>08/05</td>\n",
              "      <td>104</td>\n",
              "      <td>43</td>\n",
              "      <td>577</td>\n",
              "      <td>NaN</td>\n",
              "    </tr>\n",
              "    <tr>\n",
              "      <th>1</th>\n",
              "      <td>09/05</td>\n",
              "      <td>72</td>\n",
              "      <td>44</td>\n",
              "      <td>416</td>\n",
              "      <td>NaN</td>\n",
              "    </tr>\n",
              "    <tr>\n",
              "      <th>2</th>\n",
              "      <td>10/05</td>\n",
              "      <td>32</td>\n",
              "      <td>25</td>\n",
              "      <td>305</td>\n",
              "      <td>NaN</td>\n",
              "    </tr>\n",
              "    <tr>\n",
              "      <th>3</th>\n",
              "      <td>11/05</td>\n",
              "      <td>25</td>\n",
              "      <td>15</td>\n",
              "      <td>208</td>\n",
              "      <td>NaN</td>\n",
              "    </tr>\n",
              "    <tr>\n",
              "      <th>4</th>\n",
              "      <td>12/05</td>\n",
              "      <td>11</td>\n",
              "      <td>5</td>\n",
              "      <td>86</td>\n",
              "      <td>NaN</td>\n",
              "    </tr>\n",
              "  </tbody>\n",
              "</table>\n",
              "</div>"
            ],
            "text/plain": [
              "    data  positivo  negativo  neutro nova_coluna\n",
              "0  08/05       104        43     577         NaN\n",
              "1  09/05        72        44     416         NaN\n",
              "2  10/05        32        25     305         NaN\n",
              "3  11/05        25        15     208         NaN\n",
              "4  12/05        11         5      86         NaN"
            ]
          },
          "metadata": {
            "tags": []
          },
          "execution_count": 36
        }
      ]
    },
    {
      "cell_type": "markdown",
      "metadata": {
        "id": "EldMVyNoxf0z",
        "colab_type": "text"
      },
      "source": [
        "Para remover coluna no DataFrame"
      ]
    },
    {
      "cell_type": "code",
      "metadata": {
        "id": "t19peLcTxgLn",
        "colab_type": "code",
        "colab": {
          "base_uri": "https://localhost:8080/",
          "height": 200
        },
        "outputId": "bdf1b716-1732-4e30-9eef-ed8adffec04a"
      },
      "source": [
        "df.drop('nova_coluna', inplace=True, axis=1)\n",
        "df.head()"
      ],
      "execution_count": 40,
      "outputs": [
        {
          "output_type": "execute_result",
          "data": {
            "text/html": [
              "<div>\n",
              "<style scoped>\n",
              "    .dataframe tbody tr th:only-of-type {\n",
              "        vertical-align: middle;\n",
              "    }\n",
              "\n",
              "    .dataframe tbody tr th {\n",
              "        vertical-align: top;\n",
              "    }\n",
              "\n",
              "    .dataframe thead th {\n",
              "        text-align: right;\n",
              "    }\n",
              "</style>\n",
              "<table border=\"1\" class=\"dataframe\">\n",
              "  <thead>\n",
              "    <tr style=\"text-align: right;\">\n",
              "      <th></th>\n",
              "      <th>data</th>\n",
              "      <th>positivo</th>\n",
              "      <th>negativo</th>\n",
              "      <th>neutro</th>\n",
              "    </tr>\n",
              "  </thead>\n",
              "  <tbody>\n",
              "    <tr>\n",
              "      <th>0</th>\n",
              "      <td>08/05</td>\n",
              "      <td>104</td>\n",
              "      <td>43</td>\n",
              "      <td>577</td>\n",
              "    </tr>\n",
              "    <tr>\n",
              "      <th>1</th>\n",
              "      <td>09/05</td>\n",
              "      <td>72</td>\n",
              "      <td>44</td>\n",
              "      <td>416</td>\n",
              "    </tr>\n",
              "    <tr>\n",
              "      <th>2</th>\n",
              "      <td>10/05</td>\n",
              "      <td>32</td>\n",
              "      <td>25</td>\n",
              "      <td>305</td>\n",
              "    </tr>\n",
              "    <tr>\n",
              "      <th>3</th>\n",
              "      <td>11/05</td>\n",
              "      <td>25</td>\n",
              "      <td>15</td>\n",
              "      <td>208</td>\n",
              "    </tr>\n",
              "    <tr>\n",
              "      <th>4</th>\n",
              "      <td>12/05</td>\n",
              "      <td>11</td>\n",
              "      <td>5</td>\n",
              "      <td>86</td>\n",
              "    </tr>\n",
              "  </tbody>\n",
              "</table>\n",
              "</div>"
            ],
            "text/plain": [
              "    data  positivo  negativo  neutro\n",
              "0  08/05       104        43     577\n",
              "1  09/05        72        44     416\n",
              "2  10/05        32        25     305\n",
              "3  11/05        25        15     208\n",
              "4  12/05        11         5      86"
            ]
          },
          "metadata": {
            "tags": []
          },
          "execution_count": 40
        }
      ]
    },
    {
      "cell_type": "markdown",
      "metadata": {
        "id": "vGeV_Opv1_U7",
        "colab_type": "text"
      },
      "source": [
        "#Alguns outros comandos"
      ]
    },
    {
      "cell_type": "markdown",
      "metadata": {
        "id": "i6wwiUJI2-ut",
        "colab_type": "text"
      },
      "source": [
        "*Soma dos valores de um DataFrame:*\n",
        "\n",
        "df.sum()\n",
        "\n",
        "*Menor valor de um DataFrame:*\n",
        "\n",
        "df.min()\n",
        "\n",
        "*Maior valor:*\n",
        "\n",
        "df.max()\n",
        "\n",
        "*Index do menor valor:*\n",
        "\n",
        "df.idmin()\n",
        "\n",
        "*Index do maior valor:*\n",
        "\n",
        "df.idmax()\n",
        "\n",
        "*Resumo estatístico do DataFrame:*\n",
        "\n",
        "df.describe()\n",
        "\n",
        "*Média dos valores:*\n",
        "\n",
        "df.mean()\n",
        "\n",
        "*Mediana dos valores:*\n",
        "\n",
        "df.median()\n",
        "\n",
        "*Ordenando valores em ordem crescente:*\n",
        "\n",
        "df.sort_values()\n",
        "\n",
        "*Ordenando valores em ordem decrescente:*\n",
        "\n",
        "df.sort_values(ascending=False)\n",
        "\n"
      ]
    },
    {
      "cell_type": "markdown",
      "metadata": {
        "id": "6T1EqCMu3Tkd",
        "colab_type": "text"
      },
      "source": [
        "#Plotando Gráficos"
      ]
    },
    {
      "cell_type": "markdown",
      "metadata": {
        "id": "mbAMIKyG3YIS",
        "colab_type": "text"
      },
      "source": [
        ""
      ]
    }
  ]
}