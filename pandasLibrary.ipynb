{
  "nbformat": 4,
  "nbformat_minor": 0,
  "metadata": {
    "colab": {
      "name": "pandasLibrary.ipynb",
      "provenance": [],
      "collapsed_sections": [],
      "authorship_tag": "ABX9TyNNp63UNbNl79+c9hoVRdIS",
      "include_colab_link": true
    },
    "kernelspec": {
      "name": "python3",
      "display_name": "Python 3"
    }
  },
  "cells": [
    {
      "cell_type": "markdown",
      "metadata": {
        "id": "view-in-github",
        "colab_type": "text"
      },
      "source": [
        "<a href=\"https://colab.research.google.com/github/raiaiaia/pandasLibrary/blob/master/pandasLibrary.ipynb\" target=\"_parent\"><img src=\"https://colab.research.google.com/assets/colab-badge.svg\" alt=\"Open In Colab\"/></a>"
      ]
    },
    {
      "cell_type": "markdown",
      "metadata": {
        "id": "FrFyz9M7O4pf",
        "colab_type": "text"
      },
      "source": [
        "# **Análise de Dados com Pandas**\n"
      ]
    },
    {
      "cell_type": "markdown",
      "metadata": {
        "id": "z8Ge2NQRPEeX",
        "colab_type": "text"
      },
      "source": [
        "#O que é Pandas? Para que serve?\n"
      ]
    },
    {
      "cell_type": "markdown",
      "metadata": {
        "id": "vF8xnrvLRcFr",
        "colab_type": "text"
      },
      "source": [
        "<img src=\"https://camo.githubusercontent.com/5cb734f6fc37f645dc900e35559c60d91cc6b550/68747470733a2f2f6465762e70616e6461732e696f2f7374617469632f696d672f70616e6461732e737667\" width=400 >\n",
        "\n",
        "Pandas é uma biblioteca, de alta performance, da linguagem de programação Python. É utilizada para Análise de Dados e foi criada em 2008 pela necessidade de se ter uma ferramenta que realizasse análise quantitativa em dados financeiros. Com ela podemos lidar com grandes conjuntos de dados: fazendo operações; plotando gráficos, entre outros."
      ]
    },
    {
      "cell_type": "markdown",
      "metadata": {
        "id": "Jxpo3VOuPJch",
        "colab_type": "text"
      },
      "source": [
        "#Primeiros Passos\n",
        "\n",
        "Importando a biblioteca:\n"
      ]
    },
    {
      "cell_type": "code",
      "metadata": {
        "id": "FKeUIXs2Y8Xi",
        "colab_type": "code",
        "colab": {}
      },
      "source": [
        "import pandas as pd"
      ],
      "execution_count": 4,
      "outputs": []
    },
    {
      "cell_type": "markdown",
      "metadata": {
        "id": "_-U2fiIKPKx-",
        "colab_type": "text"
      },
      "source": [
        "<img src=\"https://media.giphy.com/media/EPcvhM28ER9XW/giphy.gif\" width=400 >\n",
        "\n"
      ]
    },
    {
      "cell_type": "markdown",
      "metadata": {
        "id": "URjUEWeUbchi",
        "colab_type": "text"
      },
      "source": [
        "#**Series e DataFrame**"
      ]
    },
    {
      "cell_type": "markdown",
      "metadata": {
        "id": "sqBOeTyGZOMn",
        "colab_type": "text"
      },
      "source": [
        "Antes de tudo precisamos entender o que são essas Estruturas de Dados, para poder utilizar a biblioteca."
      ]
    },
    {
      "cell_type": "markdown",
      "metadata": {
        "id": "Z1WAU7nEc5vP",
        "colab_type": "text"
      },
      "source": [
        "**Series** são arrays de 1 dimensão, ou melhor dizendo, uma tabela com uma única coluna."
      ]
    },
    {
      "cell_type": "code",
      "metadata": {
        "id": "06dqdmj1cJ3P",
        "colab_type": "code",
        "colab": {
          "base_uri": "https://localhost:8080/",
          "height": 106
        },
        "outputId": "36845bbc-f99c-4351-c066-51128d557b15"
      },
      "source": [
        "#criando uma Series\n",
        "s = pd.Series([1, 2, 3, 4], index=['a', 'b', 'c', 'd'])\n",
        "\n",
        "s.head()"
      ],
      "execution_count": 7,
      "outputs": [
        {
          "output_type": "execute_result",
          "data": {
            "text/plain": [
              "a    1\n",
              "b    2\n",
              "c    3\n",
              "d    4\n",
              "dtype: int64"
            ]
          },
          "metadata": {
            "tags": []
          },
          "execution_count": 7
        }
      ]
    },
    {
      "cell_type": "markdown",
      "metadata": {
        "id": "abnPJJ-jcB-3",
        "colab_type": "text"
      },
      "source": [
        "**DataFrames** ou **Datasets** são um conjunto de dados de 2 dimensões, podendo ser considerado um conjunto de Series, ou melhor dizendo, uma tabela com várias colunas."
      ]
    },
    {
      "cell_type": "code",
      "metadata": {
        "id": "_gQiz18geBFb",
        "colab_type": "code",
        "colab": {
          "base_uri": "https://localhost:8080/",
          "height": 139
        },
        "outputId": "d35b2ebe-63b9-4900-81e5-15677d708c2d"
      },
      "source": [
        "#criando um dicionário com vários valores \n",
        "data = {\n",
        "'País': ['Bélgica', 'Índia', 'Brasil'],\n",
        "'Capital': ['Bruxelas', 'Nova Delhi', 'Brasília'],\n",
        "'População': [123465, 456789, 987654]\n",
        "}\n",
        "\n",
        "#criando o DataFrame\n",
        "\n",
        "df = pd.DataFrame(data, columns=['País','Capital','População'])\n",
        "\n",
        "df"
      ],
      "execution_count": 9,
      "outputs": [
        {
          "output_type": "execute_result",
          "data": {
            "text/html": [
              "<div>\n",
              "<style scoped>\n",
              "    .dataframe tbody tr th:only-of-type {\n",
              "        vertical-align: middle;\n",
              "    }\n",
              "\n",
              "    .dataframe tbody tr th {\n",
              "        vertical-align: top;\n",
              "    }\n",
              "\n",
              "    .dataframe thead th {\n",
              "        text-align: right;\n",
              "    }\n",
              "</style>\n",
              "<table border=\"1\" class=\"dataframe\">\n",
              "  <thead>\n",
              "    <tr style=\"text-align: right;\">\n",
              "      <th></th>\n",
              "      <th>País</th>\n",
              "      <th>Capital</th>\n",
              "      <th>População</th>\n",
              "    </tr>\n",
              "  </thead>\n",
              "  <tbody>\n",
              "    <tr>\n",
              "      <th>0</th>\n",
              "      <td>Bélgica</td>\n",
              "      <td>Bruxelas</td>\n",
              "      <td>123465</td>\n",
              "    </tr>\n",
              "    <tr>\n",
              "      <th>1</th>\n",
              "      <td>Índia</td>\n",
              "      <td>Nova Delhi</td>\n",
              "      <td>456789</td>\n",
              "    </tr>\n",
              "    <tr>\n",
              "      <th>2</th>\n",
              "      <td>Brasil</td>\n",
              "      <td>Brasília</td>\n",
              "      <td>987654</td>\n",
              "    </tr>\n",
              "  </tbody>\n",
              "</table>\n",
              "</div>"
            ],
            "text/plain": [
              "      País     Capital  População\n",
              "0  Bélgica    Bruxelas     123465\n",
              "1    Índia  Nova Delhi     456789\n",
              "2   Brasil    Brasília     987654"
            ]
          },
          "metadata": {
            "tags": []
          },
          "execution_count": 9
        }
      ]
    },
    {
      "cell_type": "markdown",
      "metadata": {
        "id": "CQ4-l2i5Zo1e",
        "colab_type": "text"
      },
      "source": [
        "**Agora que já sabemos a diferença, vamos importar um conjunto de dados!!**\n",
        " "
      ]
    },
    {
      "cell_type": "code",
      "metadata": {
        "id": "Ytd9foh-eq2X",
        "colab_type": "code",
        "colab": {}
      },
      "source": [
        ""
      ],
      "execution_count": null,
      "outputs": []
    }
  ]
}